{
 "cells": [
  {
   "cell_type": "code",
   "execution_count": null,
   "id": "aca2999a",
   "metadata": {},
   "outputs": [],
   "source": [
    "s = \"नमस्ते 👋 (hello in hindi!)\"\n",
    "s"
   ]
  },
  {
   "cell_type": "code",
   "execution_count": null,
   "id": "40e2ef17",
   "metadata": {},
   "outputs": [],
   "source": [
    "# ord() returns the Unicode code point for a character\n",
    "[ord(c) for c in s]"
   ]
  },
  {
   "cell_type": "code",
   "execution_count": null,
   "id": "e139f063",
   "metadata": {},
   "outputs": [],
   "source": [
    "# encode() returns the encoded bytes of the string\n",
    "# utf-8 is the most common encoding for text in the world, it is the only encoding that is backwards compatible with ASCII\n",
    "s.encode('utf-8')"
   ]
  },
  {
   "cell_type": "code",
   "execution_count": null,
   "id": "3353a4da",
   "metadata": {},
   "outputs": [],
   "source": [
    "# variable length (1-4 bytes) utf-8 encodings, here each integer in the list is a byte (decimal representation) in the utf-8 encoding\n",
    "for c in s:\n",
    "    print(c, list(c.encode('utf-8')))"
   ]
  },
  {
   "cell_type": "code",
   "execution_count": null,
   "id": "1a334960",
   "metadata": {},
   "outputs": [],
   "source": []
  }
 ],
 "metadata": {
  "kernelspec": {
   "display_name": "diffusers",
   "language": "python",
   "name": "python3"
  },
  "language_info": {
   "codemirror_mode": {
    "name": "ipython",
    "version": 3
   },
   "file_extension": ".py",
   "mimetype": "text/x-python",
   "name": "python",
   "nbconvert_exporter": "python",
   "pygments_lexer": "ipython3",
   "version": "3.10.13"
  }
 },
 "nbformat": 4,
 "nbformat_minor": 5
}
