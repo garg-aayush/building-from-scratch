{
 "cells": [
  {
   "cell_type": "code",
   "execution_count": null,
   "id": "7c92fc31",
   "metadata": {},
   "outputs": [],
   "source": [
    "from transformers import GPT2LMHeadModel"
   ]
  },
  {
   "cell_type": "code",
   "execution_count": null,
   "id": "4b40fa92",
   "metadata": {},
   "outputs": [],
   "source": [
    "model_hf = GPT2LMHeadModel.from_pretrained(\"gpt2\")  # 124M model\n",
    "state_dict_hf = model_hf.state_dict()\n",
    "\n",
    "for k, v in state_dict_hf.items():\n",
    "    print(k, v.shape)"
   ]
  },
  {
   "cell_type": "code",
   "execution_count": null,
   "id": "5c693674",
   "metadata": {},
   "outputs": [],
   "source": [
    "# here, wte is the embedding matrix for the tokens (vocab_size: 50257, embedding_dim: 768)\n",
    "# wpe is the learnt positional embedding matrix (seq_len: 1024, embedding_dim: 768)\n",
    "# - If I visualize the positional embeddings, I see sinusoidal-like structure emerge:\n",
    "#   - Each row represents a position, and optimization has shaped them to resemble sinusoidal and cosinusoidal patterns\n",
    "#   - Unlike the original Transformer paper where sinusoidal embeddings were fixed, GPT-2 trains these parameters from scratch and they converge to similar patterns\n",
    "#   - Some channels show noisy curves, suggesting the model wasn't fully trained to convergence\n",
    "#   - Overall the embeddings capture positional information effectively"
   ]
  },
  {
   "cell_type": "code",
   "execution_count": null,
   "id": "d1fe2c57",
   "metadata": {},
   "outputs": [],
   "source": [
    "import matplotlib.pyplot as plt"
   ]
  },
  {
   "cell_type": "code",
   "execution_count": null,
   "id": "e2e1522a",
   "metadata": {},
   "outputs": [],
   "source": [
    "plt.imshow(state_dict_hf[\"transformer.wpe.weight\"], cmap=\"gray\")"
   ]
  },
  {
   "cell_type": "code",
   "execution_count": null,
   "id": "9f4ca610",
   "metadata": {},
   "outputs": [],
   "source": [
    "plt.plot(state_dict_hf[\"transformer.wpe.weight\"][:, 150])\n",
    "plt.plot(state_dict_hf[\"transformer.wpe.weight\"][:, 500])\n",
    "plt.plot(state_dict_hf[\"transformer.wpe.weight\"][:, 600])"
   ]
  },
  {
   "cell_type": "code",
   "execution_count": null,
   "id": "56e11acf",
   "metadata": {},
   "outputs": [],
   "source": [
    "# Generati"
   ]
  },
  {
   "cell_type": "code",
   "execution_count": null,
   "id": "f542fad2",
   "metadata": {},
   "outputs": [],
   "source": [
    "from transformers import pipeline, set_seed\n",
    "\n",
    "generator = pipeline(\"text-generation\", model=\"gpt2\")\n",
    "set_seed(42)\n",
    "start_text = \"Hello, I'm a language model,\"\n",
    "generator(start_text, max_length=50, num_return_sequences=5)"
   ]
  },
  {
   "cell_type": "code",
   "execution_count": null,
   "id": "a8d7dad1",
   "metadata": {},
   "outputs": [],
   "source": []
  }
 ],
 "metadata": {
  "kernelspec": {
   "display_name": "diffusers",
   "language": "python",
   "name": "python3"
  },
  "language_info": {
   "codemirror_mode": {
    "name": "ipython",
    "version": 3
   },
   "file_extension": ".py",
   "mimetype": "text/x-python",
   "name": "python",
   "nbconvert_exporter": "python",
   "pygments_lexer": "ipython3",
   "version": "3.10.13"
  }
 },
 "nbformat": 4,
 "nbformat_minor": 5
}
